{
 "metadata": {
  "language_info": {
   "codemirror_mode": {
    "name": "ipython",
    "version": 3
   },
   "file_extension": ".py",
   "mimetype": "text/x-python",
   "name": "python",
   "nbconvert_exporter": "python",
   "pygments_lexer": "ipython3",
   "version": "3.7.0-final"
  },
  "orig_nbformat": 2,
  "kernelspec": {
   "name": "python3",
   "display_name": "Python 3"
  }
 },
 "nbformat": 4,
 "nbformat_minor": 2,
 "cells": [
  {
   "source": [
    "# Advent of Code 2020 Solutions"
   ],
   "cell_type": "markdown",
   "metadata": {}
  },
  {
   "source": [
    "## Day 1\n",
    "### Overview\n",
    "After saving Christmas five years in a row, you've decided to take a vacation at a nice resort on a tropical island. Surely, Christmas will go on without you.\n",
    "\n",
    "The tropical island has its own currency and is entirely cash-only. The gold coins used there have a little picture of a starfish; the locals just call them stars. None of the currency exchanges seem to have heard of them, but somehow, you'll need to find fifty of these coins by the time you arrive so you can pay the deposit on your room.\n",
    "\n",
    "To save your vacation, you need to get all fifty stars by December 25th.\n",
    "\n",
    "Collect stars by solving puzzles. Two puzzles will be made available on each day in the Advent calendar; the second puzzle is unlocked when you complete the first. Each puzzle grants one star. Good luck!\n",
    "\n",
    "Before you leave, the Elves in accounting just need you to fix your expense report (your puzzle input); apparently, something isn't quite adding up.\n",
    "\n",
    "Specifically, they need you to **find the two entries that sum to 2020 and then multiply those two numbers together.**"
   ],
   "cell_type": "markdown",
   "metadata": {}
  },
  {
   "source": [
    "## Task 1\n",
    "Read the provided values to a from a text file, linear O(N^2) algorithm, break once the values are found."
   ],
   "cell_type": "markdown",
   "metadata": {}
  },
  {
   "cell_type": "code",
   "execution_count": 32,
   "metadata": {},
   "outputs": [
    {
     "output_type": "stream",
     "name": "stdout",
     "text": [
      "864864\n"
     ]
    }
   ],
   "source": [
    "sum_to_find = 2020\n",
    "values = []\n",
    "dataset = open(\"datasets/Day 1/task-1.txt\", \"r\")\n",
    "for row in dataset:\n",
    "    values.append(row)\n",
    "\n",
    "for i in values:\n",
    "    value_i = int(i)\n",
    "    for j in values:\n",
    "        value_j = int(j)\n",
    "        if ((value_i + value_j) == sum_to_find):\n",
    "            print (value_i * value_j)\n",
    "            break\n",
    "    else:\n",
    "        continue\n",
    "    break\n"
   ]
  },
  {
   "source": [
    "### Task 2\n",
    "Same as task 1, although this time it has a O(N^3) complexity."
   ],
   "cell_type": "markdown",
   "metadata": {}
  },
  {
   "cell_type": "code",
   "execution_count": 33,
   "metadata": {},
   "outputs": [
    {
     "output_type": "stream",
     "name": "stdout",
     "text": [
      "281473080\n"
     ]
    }
   ],
   "source": [
    "sum_to_find = 2020\n",
    "values = []\n",
    "dataset = open(\"datasets/Day 1/task-1.txt\", \"r\")\n",
    "for row in dataset:\n",
    "    values.append(row)\n",
    "\n",
    "for i in values:\n",
    "    value_i = int(i)\n",
    "    for j in values:\n",
    "        value_j = int(j)\n",
    "        for k in values:\n",
    "            value_k = int(k)\n",
    "            if ((value_i + value_j + value_k) == sum_to_find):\n",
    "                print (value_i * value_j * value_k)\n",
    "                break\n",
    "        else:\n",
    "            continue\n",
    "        break\n",
    "    else:\n",
    "        continue\n",
    "    break"
   ]
  },
  {
   "source": [
    "## Day 2 ##\n",
    "Your flight departs in a few days from the coastal airport; the easiest way down to the coast from here is via toboggan.\n",
    "\n",
    "The shopkeeper at the North Pole Toboggan Rental Shop is having a bad day. \"Something's wrong with our computers; we can't log in!\" You ask if you can take a look.\n",
    "\n",
    "Their password database seems to be a little corrupted: some of the passwords wouldn't have been allowed by the Official Toboggan Corporate Policy that was in effect when they were chosen.\n",
    "\n",
    "To try to debug the problem, they have created a list (your puzzle input) of passwords (according to the corrupted database) and the corporate policy when that password was set.\n",
    "\n",
    "### Task 1"
   ],
   "cell_type": "markdown",
   "metadata": {}
  },
  {
   "cell_type": "code",
   "execution_count": 34,
   "metadata": {},
   "outputs": [
    {
     "output_type": "stream",
     "name": "stdout",
     "text": [
      "560 passwords were valid\n"
     ]
    }
   ],
   "source": [
    "# Load and trim the dataset into sections\n",
    "dataset = open(\"datasets/Day 2/task-1.txt\", \"r\")\n",
    "total_passed = 0\n",
    "for row in dataset:\n",
    "    detail = row.split(\":\")\n",
    "    values = detail[0].split(\"-\")\n",
    "    higher_value_string = values[1].split(\" \")\n",
    "\n",
    "      \n",
    "    # Using the split strings, get the info we care about for testing\n",
    "    lower_bound = int(values[0])\n",
    "    upper_bound = int(higher_value_string[0])\n",
    "    character = detail[0][-1]\n",
    "    password_string = detail[1]\n",
    "\n",
    "    # Now test the string\n",
    "    character_occurences = 0\n",
    "    for char in password_string:\n",
    "        if (char == character):\n",
    "            character_occurences +=1\n",
    "    \n",
    "    if (character_occurences >= lower_bound and character_occurences <= upper_bound):\n",
    "        total_passed += 1\n",
    "\n",
    "print (str(total_passed) + \" passwords were valid\")"
   ]
  },
  {
   "source": [
    "### Task 2\n",
    "While it appears you validated the passwords correctly, they don't seem to be what the Official Toboggan Corporate Authentication System is expecting.\n",
    "\n",
    "The shopkeeper suddenly realizes that he just accidentally explained the password policy rules from his old job at the sled rental place down the street! The Official Toboggan Corporate Policy actually works a little differently.\n",
    "\n",
    "Each policy actually describes two positions in the password, where 1 means the first character, 2 means the second character, and so on. (Be careful; Toboggan Corporate Policies have no concept of \"index zero\"!) Exactly one of these positions must contain the given letter. Other occurrences of the letter are irrelevant for the purposes of policy enforcement."
   ],
   "cell_type": "markdown",
   "metadata": {}
  },
  {
   "source": [
    "# Load and trim the dataset into sections\n",
    "dataset = open(\"datasets/Day 2/task-1.txt\", \"r\")\n",
    "total_passed = 0\n",
    "for row in dataset:\n",
    "    detail = row.split(\":\")\n",
    "    values = detail[0].split(\"-\")\n",
    "    last_index_string = values[1].split(\" \")\n",
    "\n",
    "      \n",
    "    # Using the split strings, get the info we care about for testing\n",
    "    first_index = int(values[0])\n",
    "    last_index = int(last_index_string[0])\n",
    "    character = detail[0][-1]\n",
    "    password_string = detail[1]\n",
    "\n",
    "    # Now test the string\n",
    "    character_pos_one = password_string[first_index]\n",
    "    character_pos_two = password_string[last_index]\n",
    "\n",
    "    if (character_pos_one != character_pos_two):\n",
    "        if (character_pos_one == character or character_pos_two == character):\n",
    "            total_passed += 1    \n",
    "\n",
    "print (str(total_passed) + \" passwords were valid\")"
   ],
   "cell_type": "code",
   "metadata": {},
   "execution_count": 35,
   "outputs": [
    {
     "output_type": "stream",
     "name": "stdout",
     "text": [
      "303 passwords were valid\n"
     ]
    }
   ]
  },
  {
   "cell_type": "code",
   "execution_count": null,
   "metadata": {},
   "outputs": [],
   "source": []
  }
 ]
}