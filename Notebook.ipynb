{
 "metadata": {
  "language_info": {
   "codemirror_mode": {
    "name": "ipython",
    "version": 3
   },
   "file_extension": ".py",
   "mimetype": "text/x-python",
   "name": "python",
   "nbconvert_exporter": "python",
   "pygments_lexer": "ipython3",
   "version": "3.7.0-final"
  },
  "orig_nbformat": 2,
  "kernelspec": {
   "name": "python3",
   "display_name": "Python 3"
  }
 },
 "nbformat": 4,
 "nbformat_minor": 2,
 "cells": [
  {
   "source": [
    "# Advent of Code 2020 Solutions"
   ],
   "cell_type": "markdown",
   "metadata": {}
  },
  {
   "source": [
    "## Day 1\n",
    "### Overview\n",
    "After saving Christmas five years in a row, you've decided to take a vacation at a nice resort on a tropical island. Surely, Christmas will go on without you.\n",
    "\n",
    "The tropical island has its own currency and is entirely cash-only. The gold coins used there have a little picture of a starfish; the locals just call them stars. None of the currency exchanges seem to have heard of them, but somehow, you'll need to find fifty of these coins by the time you arrive so you can pay the deposit on your room.\n",
    "\n",
    "To save your vacation, you need to get all fifty stars by December 25th.\n",
    "\n",
    "Collect stars by solving puzzles. Two puzzles will be made available on each day in the Advent calendar; the second puzzle is unlocked when you complete the first. Each puzzle grants one star. Good luck!\n",
    "\n",
    "Before you leave, the Elves in accounting just need you to fix your expense report (your puzzle input); apparently, something isn't quite adding up.\n",
    "\n",
    "Specifically, they need you to **find the two entries that sum to 2020 and then multiply those two numbers together.**"
   ],
   "cell_type": "markdown",
   "metadata": {}
  },
  {
   "source": [
    "## Task 1\n",
    "Read the provided values to a from a text file, linear O(N^2) algorithm, break once the values are found."
   ],
   "cell_type": "markdown",
   "metadata": {}
  },
  {
   "cell_type": "code",
   "execution_count": 28,
   "metadata": {},
   "outputs": [
    {
     "output_type": "stream",
     "name": "stdout",
     "text": [
      "864864\n"
     ]
    }
   ],
   "source": [
    "sum_to_find = 2020\n",
    "values = []\n",
    "dataset = open(\"datasets/Day 1/task-1.txt\", \"r\")\n",
    "for row in dataset:\n",
    "    values.append(row)\n",
    "\n",
    "for i in values:\n",
    "    value_i = int(i)\n",
    "    for j in values:\n",
    "        value_j = int(j)\n",
    "        if ((value_i + value_j) == sum_to_find):\n",
    "            print (value_i * value_j)\n",
    "            break\n",
    "    else:\n",
    "        continue\n",
    "    break\n"
   ]
  },
  {
   "source": [
    "### Task 2\n",
    "Same as task 1, although this time it has a O(N^3) complexity."
   ],
   "cell_type": "markdown",
   "metadata": {}
  },
  {
   "cell_type": "code",
   "execution_count": 29,
   "metadata": {},
   "outputs": [
    {
     "output_type": "stream",
     "name": "stdout",
     "text": [
      "281473080\n"
     ]
    }
   ],
   "source": [
    "sum_to_find = 2020\n",
    "values = []\n",
    "dataset = open(\"datasets/Day 1/task-1.txt\", \"r\")\n",
    "for row in dataset:\n",
    "    values.append(row)\n",
    "\n",
    "for i in values:\n",
    "    value_i = int(i)\n",
    "    for j in values:\n",
    "        value_j = int(j)\n",
    "        for k in values:\n",
    "            value_k = int(k)\n",
    "            if ((value_i + value_j + value_k) == sum_to_find):\n",
    "                print (value_i * value_j * value_k)\n",
    "                break\n",
    "        else:\n",
    "            continue\n",
    "        break\n",
    "    else:\n",
    "        continue\n",
    "    break"
   ]
  }
 ]
}